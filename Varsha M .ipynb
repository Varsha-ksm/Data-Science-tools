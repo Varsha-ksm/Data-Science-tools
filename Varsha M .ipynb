{
  "metadata": {
    "kernelspec": {
      "name": "python",
      "display_name": "Python (Pyodide)",
      "language": "python"
    },
    "language_info": {
      "codemirror_mode": {
        "name": "python",
        "version": 3
      },
      "file_extension": ".py",
      "mimetype": "text/x-python",
      "name": "python",
      "nbconvert_exporter": "python",
      "pygments_lexer": "ipython3",
      "version": "3.8"
    }
  },
  "nbformat_minor": 5,
  "nbformat": 4,
  "cells": [
    {
      "id": "85f139f9-96a5-4359-871e-b0dd1d5208d0",
      "cell_type": "code",
      "source": "## Exercise 1 - Create a markdown cell of the notebook\nprint(\"\"\"# Introduction to Data Science: A Comprehensive Jupyter Notebook\"\"\")\n",
      "metadata": {
        "trusted": true
      },
      "outputs": [
        {
          "name": "stdout",
          "output_type": "stream",
          "text": "# Introduction to Data Science: A Comprehensive Jupyter Notebook\n"
        }
      ],
      "execution_count": 42
    },
    {
      "id": "4bcfc19b-64b6-4707-86b5-6b837d253628",
      "cell_type": "code",
      "source": "## Exercise 2 - Create a markdown cell with the title of the notebook\nprint(\"\"\"# Introduction to Data Science: A Comprehensive Jupyter Notebook\"\"\")\n",
      "metadata": {
        "trusted": true
      },
      "outputs": [
        {
          "name": "stdout",
          "output_type": "stream",
          "text": "# Introduction to Data Science: A Comprehensive Jupyter Notebook\n"
        }
      ],
      "execution_count": 41
    },
    {
      "id": "18b9fa90-1323-4dfe-85f9-2b80bffb50a2",
      "cell_type": "code",
      "source": "## Exercise 3 - Create a markdown cell with the intro of the notebook\nprint(\"\"\"# Introduction to Data Science: A Comprehensive Jupyter Notebook\"\"\")\n",
      "metadata": {
        "trusted": true
      },
      "outputs": [
        {
          "name": "stdout",
          "output_type": "stream",
          "text": "# Introduction to Data Science: A Comprehensive Jupyter Notebook\n"
        }
      ],
      "execution_count": 40
    },
    {
      "id": "65354a04-0889-4e66-a451-7b677dfeb875",
      "cell_type": "code",
      "source": "## Exercise 4 - Create a markdown cell to list data science Languages\nprint(\"\"\"### Data Science Languages:\n#1. Python\n#2. R\n#3. SQL\n#4. Julia\n#5. Scala\"\"\")\n",
      "metadata": {
        "trusted": true
      },
      "outputs": [
        {
          "name": "stdout",
          "output_type": "stream",
          "text": "### Data Science Languages:\n#1. Python\n#2. R\n#3. SQL\n#4. Julia\n#5. Scala\n"
        }
      ],
      "execution_count": 39
    },
    {
      "id": "4f3422eb-7b78-4f7a-b713-164f2b9a1ff6",
      "cell_type": "code",
      "source": "## Exercise 5 - Create a markdown cell to list data science Libraries\nprint(\"\"\"### Data Science Libraries:\n#1. NumPy\n#2. Pandas\n#3. Matplotlib\n#4. Seaborn\n#5. Scikit-Learn\n#6. TensorFlow\n#7. Keras\"\"\")\n",
      "metadata": {
        "trusted": true
      },
      "outputs": [
        {
          "name": "stdout",
          "output_type": "stream",
          "text": "### Data Science Libraries:\n#1. NumPy\n#2. Pandas\n#3. Matplotlib\n#4. Seaborn\n#5. Scikit-Learn\n#6. TensorFlow\n#7. Keras\n"
        }
      ],
      "execution_count": 38
    },
    {
      "id": "c1ba5c24-8374-40e5-978b-0a645049045c",
      "cell_type": "code",
      "source": "## Exercise 6 - Create a markdown cell with a table of Data Science tools\nprint(\"\"\"#| Tool | Description |\n#|------|-------------|\n#| Jupyter Notebook | Interactive computing environment |\n#| RStudio | IDE for R programming |\n#| Apache Spark | Big data processing engine |\n#| TensorFlow | Machine Learning framework |\n#| Power BI | Data visualization tool\"\"\")\n",
      "metadata": {
        "trusted": true
      },
      "outputs": [
        {
          "name": "stdout",
          "output_type": "stream",
          "text": "#| Tool | Description |\n#|------|-------------|\n#| Jupyter Notebook | Interactive computing environment |\n#| RStudio | IDE for R programming |\n#| Apache Spark | Big data processing engine |\n#| TensorFlow | Machine Learning framework |\n#| Power BI | Data visualization tool\n"
        }
      ],
      "execution_count": 37
    },
    {
      "id": "cea73a49-7ae4-4913-922a-191d583d2bf6",
      "cell_type": "code",
      "source": "## Exercise 7 - Create a markdown cell introducing arithmetic expression examples\nprint(\"\"\"Arithmetic Expression Examples:\n#Below are examples of arithmetic operations such as addition and multiplication.\"\"\")\n",
      "metadata": {
        "trusted": true
      },
      "outputs": [
        {
          "name": "stdout",
          "output_type": "stream",
          "text": "Arithmetic Expression Examples:\n#Below are examples of arithmetic operations such as addition and multiplication.\n"
        }
      ],
      "execution_count": 36
    },
    {
      "id": "efa41e98-97e0-4d53-af69-70eb85ba69b9",
      "cell_type": "code",
      "source": "## Exercise 8 - Create a code cell to multiply and add numbers\n#python\n# Multiplication and Addition Example\nresult = (5 * 4) + 10\nprint (\"The result of (5 * 4) + 10 is:\", result)\n",
      "metadata": {
        "trusted": true
      },
      "outputs": [
        {
          "name": "stdout",
          "output_type": "stream",
          "text": "The result of (5 * 4) + 10 is: 30\n"
        }
      ],
      "execution_count": 35
    },
    {
      "id": "dea9ae19-2f91-429a-a428-3ff33213542f",
      "cell_type": "code",
      "source": "#python\n#Convert minutes to hours\nminutes = 120\nhours = minutes / 60\nprint (f\"{minutes} minutes is equal to {hours} hours\")\n",
      "metadata": {
        "trusted": true
      },
      "outputs": [
        {
          "name": "stdout",
          "output_type": "stream",
          "text": "120 minutes is equal to 2.0 hours\n"
        }
      ],
      "execution_count": 34
    },
    {
      "id": "88fad5e2-2606-40e9-b7a5-b237a3330ca5",
      "cell_type": "code",
      "source": "## Exercise 10 - Insert a markdown cell to list Objectives\n### Objectives:\nprint(\"\"\"-List programming languages used in Data Science\n-Identify important libraries for Data Science\n-Perform basic arithmetic operations\n-Convert time units in Python\n-Share work through GitHub \"\"\")\n",
      "metadata": {
        "trusted": true
      },
      "outputs": [
        {
          "name": "stdout",
          "output_type": "stream",
          "text": "-List programming languages used in Data Science\n-Identify important libraries for Data Science\n-Perform basic arithmetic operations\n-Convert time units in Python\n-Share work through GitHub \n"
        }
      ],
      "execution_count": 33
    },
    {
      "id": "c09ced85-0727-432c-b620-f42ce18d2cb4",
      "cell_type": "code",
      "source": "# 11. About the Author\nprint(\" #author name: Varsha M\")",
      "metadata": {
        "trusted": true
      },
      "outputs": [
        {
          "name": "stdout",
          "output_type": "stream",
          "text": " #author name: Varsha M\n"
        }
      ],
      "execution_count": 29
    },
    {
      "id": "b64217df-b21f-403b-a325-a32de168300a",
      "cell_type": "code",
      "source": "",
      "metadata": {
        "trusted": true
      },
      "outputs": [],
      "execution_count": null
    },
    {
      "id": "25515ff1-2919-4644-b87d-af580bafb491",
      "cell_type": "code",
      "source": "",
      "metadata": {
        "trusted": true
      },
      "outputs": [],
      "execution_count": null
    },
    {
      "id": "2015ce62-16f3-451d-98f9-4f14cd03cf1f",
      "cell_type": "code",
      "source": "",
      "metadata": {
        "trusted": true
      },
      "outputs": [],
      "execution_count": null
    },
    {
      "id": "2fdc0c70-b913-4608-85c0-c918f768f7e4",
      "cell_type": "code",
      "source": "",
      "metadata": {
        "trusted": true
      },
      "outputs": [],
      "execution_count": null
    },
    {
      "id": "532980b1-1f9e-4042-870e-5319e93dc94a",
      "cell_type": "code",
      "source": "",
      "metadata": {
        "trusted": true
      },
      "outputs": [],
      "execution_count": null
    },
    {
      "id": "4476ae05-086c-4801-8348-72d2378662ac",
      "cell_type": "code",
      "source": "",
      "metadata": {
        "trusted": true
      },
      "outputs": [],
      "execution_count": null
    },
    {
      "id": "8001d2af-5595-4e6b-a1f7-00ec79fd087b",
      "cell_type": "code",
      "source": "",
      "metadata": {
        "trusted": true
      },
      "outputs": [],
      "execution_count": null
    },
    {
      "id": "7a586eaf-2a22-4e33-b964-ce4340dd6700",
      "cell_type": "code",
      "source": "",
      "metadata": {
        "trusted": true
      },
      "outputs": [],
      "execution_count": null
    },
    {
      "id": "58726f82-5f2d-480c-835b-c0ece8e9e608",
      "cell_type": "code",
      "source": "",
      "metadata": {
        "trusted": true
      },
      "outputs": [],
      "execution_count": null
    }
  ]
}