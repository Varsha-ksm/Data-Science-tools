{
  "metadata": {
    "kernelspec": {
      "name": "python",
      "display_name": "Python (Pyodide)",
      "language": "python"
    },
    "language_info": {
      "codemirror_mode": {
        "name": "python",
        "version": 3
      },
      "file_extension": ".py",
      "mimetype": "text/x-python",
      "name": "python",
      "nbconvert_exporter": "python",
      "pygments_lexer": "ipython3",
      "version": "3.8"
    }
  },
  "nbformat_minor": 5,
  "nbformat": 4,
  "cells": [
    {
      "id": "85f139f9-96a5-4359-871e-b0dd1d5208d0",
      "cell_type": "code",
      "source": "## Exercise 1 - Create a markdown cell of the notebook\n# Introduction to Data Science: A Comprehensive Jupyter Notebook\n",
      "metadata": {
        "trusted": true
      },
      "outputs": [],
      "execution_count": 8
    },
    {
      "id": "4bcfc19b-64b6-4707-86b5-6b837d253628",
      "cell_type": "code",
      "source": "## Exercise 2 - Create a markdown cell with the title of the notebook\n# Introduction to Data Science: A Comprehensive Jupyter Notebook\n",
      "metadata": {
        "trusted": true
      },
      "outputs": [],
      "execution_count": 9
    },
    {
      "id": "18b9fa90-1323-4dfe-85f9-2b80bffb50a2",
      "cell_type": "code",
      "source": "## Exercise 3 - Create a markdown cell with the intro of the notebook\n# Introduction to Data Science: A Comprehensive Jupyter Notebook\n",
      "metadata": {
        "trusted": true
      },
      "outputs": [],
      "execution_count": 10
    },
    {
      "id": "65354a04-0889-4e66-a451-7b677dfeb875",
      "cell_type": "code",
      "source": "## Exercise 4 - Create a markdown cell to list data science Languages\n### Data Science Languages:\n#1. Python\n#2. R\n#3. SQL\n#4. Julia\n#5. Scala\n",
      "metadata": {
        "trusted": true
      },
      "outputs": [],
      "execution_count": 11
    },
    {
      "id": "4f3422eb-7b78-4f7a-b713-164f2b9a1ff6",
      "cell_type": "code",
      "source": "## Exercise 5 - Create a markdown cell to list data science Libraries\n### Data Science Libraries:\n#1. NumPy\n#2. Pandas\n#3. Matplotlib\n#4. Seaborn\n#5. Scikit-Learn\n#6. TensorFlow\n#7. Keras\n",
      "metadata": {
        "trusted": true
      },
      "outputs": [],
      "execution_count": 12
    },
    {
      "id": "c1ba5c24-8374-40e5-978b-0a645049045c",
      "cell_type": "code",
      "source": "## Exercise 6 - Create a markdown cell with a table of Data Science tools\n#| Tool | Description |\n#|------|-------------|\n#| Jupyter Notebook | Interactive computing environment |\n#| RStudio | IDE for R programming |\n#| Apache Spark | Big data processing engine |\n#| TensorFlow | Machine Learning framework |\n#| Power BI | Data visualization tool\n",
      "metadata": {
        "trusted": true
      },
      "outputs": [],
      "execution_count": 13
    },
    {
      "id": "cea73a49-7ae4-4913-922a-191d583d2bf6",
      "cell_type": "code",
      "source": "## Exercise 7 - Create a markdown cell introducing arithmetic expression examples\n### Arithmetic Expression Examples:\n#Below are examples of arithmetic operations such as addition and multiplication.\n",
      "metadata": {
        "trusted": true
      },
      "outputs": [],
      "execution_count": 7
    },
    {
      "id": "efa41e98-97e0-4d53-af69-70eb85ba69b9",
      "cell_type": "code",
      "source": "## Exercise 8 - Create a code cell to multiply and add numbers\n#\n`python\n# Multiplication and Addition Example\nresult = (5 * 4) + 10\nprint (\"The result of (5 * 4) + 10 is:\", result)\n",
      "metadata": {
        "trusted": true
      },
      "outputs": [],
      "execution_count": null
    },
    {
      "id": "dea9ae19-2f91-429a-a428-3ff33213542f",
      "cell_type": "code",
      "source": "#python\n#Convert minutes to hours\nminutes = 120\nours = minutes / 60\nprint (f\"{minutes} minutes is equal to {hours} hours\")\n",
      "metadata": {
        "trusted": true
      },
      "outputs": [],
      "execution_count": null
    },
    {
      "id": "88fad5e2-2606-40e9-b7a5-b237a3330ca5",
      "cell_type": "code",
      "source": "## Exercise 10 - Insert a markdown cell to list Objectives\n### Objectives:\n#-List programming languages used in Data Science\n#-Identify important libraries for Data Science\n#-Perform basic arithmetic operations\n#-Convert time units in Python\n#-Share work through GitHub\n",
      "metadata": {
        "trusted": true
      },
      "outputs": [],
      "execution_count": null
    },
    {
      "id": "c09ced85-0727-432c-b620-f42ce18d2cb4",
      "cell_type": "code",
      "source": "# 11. About the Author\nprint(\" #author name: Varsha M\")",
      "metadata": {
        "trusted": true
      },
      "outputs": [],
      "execution_count": null
    },
    {
      "id": "b64217df-b21f-403b-a325-a32de168300a",
      "cell_type": "code",
      "source": "",
      "metadata": {
        "trusted": true
      },
      "outputs": [],
      "execution_count": null
    },
    {
      "id": "25515ff1-2919-4644-b87d-af580bafb491",
      "cell_type": "code",
      "source": "",
      "metadata": {
        "trusted": true
      },
      "outputs": [],
      "execution_count": null
    }
  ]
}